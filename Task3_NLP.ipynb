{
  "nbformat": 4,
  "nbformat_minor": 0,
  "metadata": {
    "colab": {
      "name": "Task3_NLP.ipynb",
      "provenance": [],
      "collapsed_sections": []
    },
    "kernelspec": {
      "name": "python3",
      "display_name": "Python 3"
    },
    "language_info": {
      "name": "python"
    }
  },
  "cells": [
    {
      "cell_type": "markdown",
      "metadata": {
        "id": "fpMgRZGTWgx8"
      },
      "source": [
        "## Mounting to drive"
      ]
    },
    {
      "cell_type": "code",
      "metadata": {
        "colab": {
          "base_uri": "https://localhost:8080/"
        },
        "id": "hAqvYoHIWPxN",
        "outputId": "54229225-5cee-4818-e74a-b275e80db0dc"
      },
      "source": [
        "from google.colab import drive\n",
        "drive.mount('/content/drive')"
      ],
      "execution_count": null,
      "outputs": [
        {
          "output_type": "stream",
          "text": [
            "Mounted at /content/drive\n"
          ],
          "name": "stdout"
        }
      ]
    },
    {
      "cell_type": "code",
      "metadata": {
        "colab": {
          "base_uri": "https://localhost:8080/"
        },
        "id": "uo2J1rTpWRql",
        "outputId": "f4203759-fe5a-4392-8e86-eaf51455542a"
      },
      "source": [
        "%cd \"/content/drive/MyDrive/midas\""
      ],
      "execution_count": null,
      "outputs": [
        {
          "output_type": "stream",
          "text": [
            "/content/drive/MyDrive/midas\n"
          ],
          "name": "stdout"
        }
      ]
    },
    {
      "cell_type": "markdown",
      "metadata": {
        "id": "e0NkTwxDWt3e"
      },
      "source": [
        "## Importing Libraries"
      ]
    },
    {
      "cell_type": "code",
      "metadata": {
        "id": "lJTFmaO6WowR"
      },
      "source": [
        "import csv\n",
        "import pandas as pd\n",
        "import numpy as np\n",
        "import matplotlib.pyplot as plt\n",
        "import seaborn as sns"
      ],
      "execution_count": null,
      "outputs": []
    },
    {
      "cell_type": "markdown",
      "metadata": {
        "id": "MBV-rITvY4Jj"
      },
      "source": [
        "## Importing Data"
      ]
    },
    {
      "cell_type": "code",
      "metadata": {
        "id": "xYnuoGiBWxDw"
      },
      "source": [
        "data = pd.read_csv('/content/drive/MyDrive/midas/flipkart_com-ecommerce_sample.csv')"
      ],
      "execution_count": null,
      "outputs": []
    },
    {
      "cell_type": "code",
      "metadata": {
        "colab": {
          "base_uri": "https://localhost:8080/",
          "height": 467
        },
        "id": "L6VPZqNgW43z",
        "outputId": "0a0fda28-a938-4536-e933-c8fefe457f17"
      },
      "source": [
        "data.head()"
      ],
      "execution_count": null,
      "outputs": [
        {
          "output_type": "execute_result",
          "data": {
            "text/html": [
              "<div>\n",
              "<style scoped>\n",
              "    .dataframe tbody tr th:only-of-type {\n",
              "        vertical-align: middle;\n",
              "    }\n",
              "\n",
              "    .dataframe tbody tr th {\n",
              "        vertical-align: top;\n",
              "    }\n",
              "\n",
              "    .dataframe thead th {\n",
              "        text-align: right;\n",
              "    }\n",
              "</style>\n",
              "<table border=\"1\" class=\"dataframe\">\n",
              "  <thead>\n",
              "    <tr style=\"text-align: right;\">\n",
              "      <th></th>\n",
              "      <th>uniq_id</th>\n",
              "      <th>crawl_timestamp</th>\n",
              "      <th>product_url</th>\n",
              "      <th>product_name</th>\n",
              "      <th>product_category_tree</th>\n",
              "      <th>pid</th>\n",
              "      <th>retail_price</th>\n",
              "      <th>discounted_price</th>\n",
              "      <th>image</th>\n",
              "      <th>is_FK_Advantage_product</th>\n",
              "      <th>description</th>\n",
              "      <th>product_rating</th>\n",
              "      <th>overall_rating</th>\n",
              "      <th>brand</th>\n",
              "      <th>product_specifications</th>\n",
              "    </tr>\n",
              "  </thead>\n",
              "  <tbody>\n",
              "    <tr>\n",
              "      <th>0</th>\n",
              "      <td>c2d766ca982eca8304150849735ffef9</td>\n",
              "      <td>2016-03-25 22:59:23 +0000</td>\n",
              "      <td>http://www.flipkart.com/alisha-solid-women-s-c...</td>\n",
              "      <td>Alisha Solid Women's Cycling Shorts</td>\n",
              "      <td>[\"Clothing &gt;&gt; Women's Clothing &gt;&gt; Lingerie, Sl...</td>\n",
              "      <td>SRTEH2FF9KEDEFGF</td>\n",
              "      <td>999.0</td>\n",
              "      <td>379.0</td>\n",
              "      <td>[\"http://img5a.flixcart.com/image/short/u/4/a/...</td>\n",
              "      <td>False</td>\n",
              "      <td>Key Features of Alisha Solid Women's Cycling S...</td>\n",
              "      <td>No rating available</td>\n",
              "      <td>No rating available</td>\n",
              "      <td>Alisha</td>\n",
              "      <td>{\"product_specification\"=&gt;[{\"key\"=&gt;\"Number of ...</td>\n",
              "    </tr>\n",
              "    <tr>\n",
              "      <th>1</th>\n",
              "      <td>7f7036a6d550aaa89d34c77bd39a5e48</td>\n",
              "      <td>2016-03-25 22:59:23 +0000</td>\n",
              "      <td>http://www.flipkart.com/fabhomedecor-fabric-do...</td>\n",
              "      <td>FabHomeDecor Fabric Double Sofa Bed</td>\n",
              "      <td>[\"Furniture &gt;&gt; Living Room Furniture &gt;&gt; Sofa B...</td>\n",
              "      <td>SBEEH3QGU7MFYJFY</td>\n",
              "      <td>32157.0</td>\n",
              "      <td>22646.0</td>\n",
              "      <td>[\"http://img6a.flixcart.com/image/sofa-bed/j/f...</td>\n",
              "      <td>False</td>\n",
              "      <td>FabHomeDecor Fabric Double Sofa Bed (Finish Co...</td>\n",
              "      <td>No rating available</td>\n",
              "      <td>No rating available</td>\n",
              "      <td>FabHomeDecor</td>\n",
              "      <td>{\"product_specification\"=&gt;[{\"key\"=&gt;\"Installati...</td>\n",
              "    </tr>\n",
              "    <tr>\n",
              "      <th>2</th>\n",
              "      <td>f449ec65dcbc041b6ae5e6a32717d01b</td>\n",
              "      <td>2016-03-25 22:59:23 +0000</td>\n",
              "      <td>http://www.flipkart.com/aw-bellies/p/itmeh4grg...</td>\n",
              "      <td>AW Bellies</td>\n",
              "      <td>[\"Footwear &gt;&gt; Women's Footwear &gt;&gt; Ballerinas &gt;...</td>\n",
              "      <td>SHOEH4GRSUBJGZXE</td>\n",
              "      <td>999.0</td>\n",
              "      <td>499.0</td>\n",
              "      <td>[\"http://img5a.flixcart.com/image/shoe/7/z/z/r...</td>\n",
              "      <td>False</td>\n",
              "      <td>Key Features of AW Bellies Sandals Wedges Heel...</td>\n",
              "      <td>No rating available</td>\n",
              "      <td>No rating available</td>\n",
              "      <td>AW</td>\n",
              "      <td>{\"product_specification\"=&gt;[{\"key\"=&gt;\"Ideal For\"...</td>\n",
              "    </tr>\n",
              "    <tr>\n",
              "      <th>3</th>\n",
              "      <td>0973b37acd0c664e3de26e97e5571454</td>\n",
              "      <td>2016-03-25 22:59:23 +0000</td>\n",
              "      <td>http://www.flipkart.com/alisha-solid-women-s-c...</td>\n",
              "      <td>Alisha Solid Women's Cycling Shorts</td>\n",
              "      <td>[\"Clothing &gt;&gt; Women's Clothing &gt;&gt; Lingerie, Sl...</td>\n",
              "      <td>SRTEH2F6HUZMQ6SJ</td>\n",
              "      <td>699.0</td>\n",
              "      <td>267.0</td>\n",
              "      <td>[\"http://img5a.flixcart.com/image/short/6/2/h/...</td>\n",
              "      <td>False</td>\n",
              "      <td>Key Features of Alisha Solid Women's Cycling S...</td>\n",
              "      <td>No rating available</td>\n",
              "      <td>No rating available</td>\n",
              "      <td>Alisha</td>\n",
              "      <td>{\"product_specification\"=&gt;[{\"key\"=&gt;\"Number of ...</td>\n",
              "    </tr>\n",
              "    <tr>\n",
              "      <th>4</th>\n",
              "      <td>bc940ea42ee6bef5ac7cea3fb5cfbee7</td>\n",
              "      <td>2016-03-25 22:59:23 +0000</td>\n",
              "      <td>http://www.flipkart.com/sicons-all-purpose-arn...</td>\n",
              "      <td>Sicons All Purpose Arnica Dog Shampoo</td>\n",
              "      <td>[\"Pet Supplies &gt;&gt; Grooming &gt;&gt; Skin &amp; Coat Care...</td>\n",
              "      <td>PSOEH3ZYDMSYARJ5</td>\n",
              "      <td>220.0</td>\n",
              "      <td>210.0</td>\n",
              "      <td>[\"http://img5a.flixcart.com/image/pet-shampoo/...</td>\n",
              "      <td>False</td>\n",
              "      <td>Specifications of Sicons All Purpose Arnica Do...</td>\n",
              "      <td>No rating available</td>\n",
              "      <td>No rating available</td>\n",
              "      <td>Sicons</td>\n",
              "      <td>{\"product_specification\"=&gt;[{\"key\"=&gt;\"Pet Type\",...</td>\n",
              "    </tr>\n",
              "  </tbody>\n",
              "</table>\n",
              "</div>"
            ],
            "text/plain": [
              "                            uniq_id  ...                             product_specifications\n",
              "0  c2d766ca982eca8304150849735ffef9  ...  {\"product_specification\"=>[{\"key\"=>\"Number of ...\n",
              "1  7f7036a6d550aaa89d34c77bd39a5e48  ...  {\"product_specification\"=>[{\"key\"=>\"Installati...\n",
              "2  f449ec65dcbc041b6ae5e6a32717d01b  ...  {\"product_specification\"=>[{\"key\"=>\"Ideal For\"...\n",
              "3  0973b37acd0c664e3de26e97e5571454  ...  {\"product_specification\"=>[{\"key\"=>\"Number of ...\n",
              "4  bc940ea42ee6bef5ac7cea3fb5cfbee7  ...  {\"product_specification\"=>[{\"key\"=>\"Pet Type\",...\n",
              "\n",
              "[5 rows x 15 columns]"
            ]
          },
          "metadata": {
            "tags": []
          },
          "execution_count": 7
        }
      ]
    },
    {
      "cell_type": "markdown",
      "metadata": {
        "id": "vM5lWo6oZNvc"
      },
      "source": [
        "## Understanding the Dataset"
      ]
    },
    {
      "cell_type": "code",
      "metadata": {
        "colab": {
          "base_uri": "https://localhost:8080/"
        },
        "id": "WQNBfGeWXCGL",
        "outputId": "e5933065-9da3-4430-9fe5-f5a9595c0a7e"
      },
      "source": [
        "data.info()"
      ],
      "execution_count": null,
      "outputs": [
        {
          "output_type": "stream",
          "text": [
            "<class 'pandas.core.frame.DataFrame'>\n",
            "RangeIndex: 20000 entries, 0 to 19999\n",
            "Data columns (total 15 columns):\n",
            " #   Column                   Non-Null Count  Dtype  \n",
            "---  ------                   --------------  -----  \n",
            " 0   uniq_id                  20000 non-null  object \n",
            " 1   crawl_timestamp          20000 non-null  object \n",
            " 2   product_url              20000 non-null  object \n",
            " 3   product_name             20000 non-null  object \n",
            " 4   product_category_tree    20000 non-null  object \n",
            " 5   pid                      20000 non-null  object \n",
            " 6   retail_price             19922 non-null  float64\n",
            " 7   discounted_price         19922 non-null  float64\n",
            " 8   image                    19997 non-null  object \n",
            " 9   is_FK_Advantage_product  20000 non-null  bool   \n",
            " 10  description              19998 non-null  object \n",
            " 11  product_rating           20000 non-null  object \n",
            " 12  overall_rating           20000 non-null  object \n",
            " 13  brand                    14136 non-null  object \n",
            " 14  product_specifications   19986 non-null  object \n",
            "dtypes: bool(1), float64(2), object(12)\n",
            "memory usage: 2.2+ MB\n"
          ],
          "name": "stdout"
        }
      ]
    },
    {
      "cell_type": "code",
      "metadata": {
        "colab": {
          "base_uri": "https://localhost:8080/"
        },
        "id": "AC41WVf0XHY5",
        "outputId": "fdd22879-8f18-45bb-8250-30566a86d008"
      },
      "source": [
        "data.columns"
      ],
      "execution_count": null,
      "outputs": [
        {
          "output_type": "execute_result",
          "data": {
            "text/plain": [
              "Index(['uniq_id', 'crawl_timestamp', 'product_url', 'product_name',\n",
              "       'product_category_tree', 'pid', 'retail_price', 'discounted_price',\n",
              "       'image', 'is_FK_Advantage_product', 'description', 'product_rating',\n",
              "       'overall_rating', 'brand', 'product_specifications'],\n",
              "      dtype='object')"
            ]
          },
          "metadata": {
            "tags": []
          },
          "execution_count": 9
        }
      ]
    },
    {
      "cell_type": "code",
      "metadata": {
        "colab": {
          "base_uri": "https://localhost:8080/"
        },
        "id": "T5ywTBSOZAFT",
        "outputId": "28d16857-5b3b-45e1-a20d-3edf3b833db8"
      },
      "source": [
        "data.shape"
      ],
      "execution_count": null,
      "outputs": [
        {
          "output_type": "execute_result",
          "data": {
            "text/plain": [
              "(20000, 15)"
            ]
          },
          "metadata": {
            "tags": []
          },
          "execution_count": 10
        }
      ]
    },
    {
      "cell_type": "code",
      "metadata": {
        "colab": {
          "base_uri": "https://localhost:8080/"
        },
        "id": "aehBYzpuZBOw",
        "outputId": "2e07b045-bb65-4112-afb8-c4616e8ce4a0"
      },
      "source": [
        "data.isnull().sum()"
      ],
      "execution_count": null,
      "outputs": [
        {
          "output_type": "execute_result",
          "data": {
            "text/plain": [
              "uniq_id                       0\n",
              "crawl_timestamp               0\n",
              "product_url                   0\n",
              "product_name                  0\n",
              "product_category_tree         0\n",
              "pid                           0\n",
              "retail_price                 78\n",
              "discounted_price             78\n",
              "image                         3\n",
              "is_FK_Advantage_product       0\n",
              "description                   2\n",
              "product_rating                0\n",
              "overall_rating                0\n",
              "brand                      5864\n",
              "product_specifications       14\n",
              "dtype: int64"
            ]
          },
          "metadata": {
            "tags": []
          },
          "execution_count": 11
        }
      ]
    },
    {
      "cell_type": "code",
      "metadata": {
        "colab": {
          "base_uri": "https://localhost:8080/"
        },
        "id": "PTZfHv5sZJ9l",
        "outputId": "89c62e2f-8f47-4ab7-9a13-89231a6b9871"
      },
      "source": [
        "data.duplicated().value_counts()"
      ],
      "execution_count": null,
      "outputs": [
        {
          "output_type": "execute_result",
          "data": {
            "text/plain": [
              "False    20000\n",
              "dtype: int64"
            ]
          },
          "metadata": {
            "tags": []
          },
          "execution_count": 12
        }
      ]
    },
    {
      "cell_type": "markdown",
      "metadata": {
        "id": "EoDcm_5ZYH8X"
      },
      "source": [
        "## Data Cleaning"
      ]
    },
    {
      "cell_type": "code",
      "metadata": {
        "colab": {
          "base_uri": "https://localhost:8080/"
        },
        "id": "jL-boRZzYZ8I",
        "outputId": "09e820ac-d069-4ec6-853d-5cb5b8a5ea01"
      },
      "source": [
        "data['crawl_timestamp']=pd.to_datetime(Flipkart_data['crawl_timestamp'])\n",
        "data['crawl_timestamp']"
      ],
      "execution_count": null,
      "outputs": [
        {
          "output_type": "execute_result",
          "data": {
            "text/plain": [
              "0       2016-03-25 22:59:23+00:00\n",
              "1       2016-03-25 22:59:23+00:00\n",
              "2       2016-03-25 22:59:23+00:00\n",
              "3       2016-03-25 22:59:23+00:00\n",
              "4       2016-03-25 22:59:23+00:00\n",
              "                   ...           \n",
              "19995   2015-12-01 10:15:43+00:00\n",
              "19996   2015-12-01 10:15:43+00:00\n",
              "19997   2015-12-01 10:15:43+00:00\n",
              "19998   2015-12-01 10:15:43+00:00\n",
              "19999   2015-12-01 10:15:43+00:00\n",
              "Name: crawl_timestamp, Length: 20000, dtype: datetime64[ns, UTC]"
            ]
          },
          "metadata": {
            "tags": []
          },
          "execution_count": 13
        }
      ]
    },
    {
      "cell_type": "code",
      "metadata": {
        "id": "3F5tlwJ_ZVvo"
      },
      "source": [
        "data['crawl_year']=data['crawl_timestamp'].apply(lambda x : x.year)"
      ],
      "execution_count": null,
      "outputs": []
    },
    {
      "cell_type": "code",
      "metadata": {
        "colab": {
          "base_uri": "https://localhost:8080/"
        },
        "id": "jB6uHEr0Zada",
        "outputId": "f458acd9-8506-46d3-f231-22ea9c06b48c"
      },
      "source": [
        "data['crawl_year']"
      ],
      "execution_count": null,
      "outputs": [
        {
          "output_type": "execute_result",
          "data": {
            "text/plain": [
              "0        2016\n",
              "1        2016\n",
              "2        2016\n",
              "3        2016\n",
              "4        2016\n",
              "         ... \n",
              "19995    2015\n",
              "19996    2015\n",
              "19997    2015\n",
              "19998    2015\n",
              "19999    2015\n",
              "Name: crawl_year, Length: 20000, dtype: int64"
            ]
          },
          "metadata": {
            "tags": []
          },
          "execution_count": 15
        }
      ]
    },
    {
      "cell_type": "code",
      "metadata": {
        "colab": {
          "base_uri": "https://localhost:8080/"
        },
        "id": "nKQXZ4SNZjzL",
        "outputId": "114b185c-1dbd-400d-eea1-5b0de4fc3086"
      },
      "source": [
        "data['Month']=data['crawl_timestamp'].apply(lambda x : x.month)\n",
        "data['Month']"
      ],
      "execution_count": null,
      "outputs": [
        {
          "output_type": "execute_result",
          "data": {
            "text/plain": [
              "0         3\n",
              "1         3\n",
              "2         3\n",
              "3         3\n",
              "4         3\n",
              "         ..\n",
              "19995    12\n",
              "19996    12\n",
              "19997    12\n",
              "19998    12\n",
              "19999    12\n",
              "Name: Month, Length: 20000, dtype: int64"
            ]
          },
          "metadata": {
            "tags": []
          },
          "execution_count": 16
        }
      ]
    },
    {
      "cell_type": "markdown",
      "metadata": {
        "id": "-aUCP-2jZu1O"
      },
      "source": [
        "#### Splitting the categories"
      ]
    },
    {
      "cell_type": "code",
      "metadata": {
        "id": "wwYmnuBAtUdV"
      },
      "source": [
        "data['first']=data['product_category_tree'].apply(lambda x :x.split('>>')[0][2:len(x.split('>>')[0])-1])\n",
        "\n",
        "def second(value):\n",
        "    try:\n",
        "        return value.split('>>')[1][1:len(value.split('>>')[1])-1]\n",
        "    except IndexError:\n",
        "        return 'None'   \n",
        "data['second']=data['product_category_tree'].apply(second)\n",
        "\n",
        "def Third(value):\n",
        "    try:\n",
        "        return value.split('>>')[2][1:len(value.split('>>')[2])-1]\n",
        "    except IndexError:\n",
        "        return 'None'\n",
        "data['Third']=data['product_category_tree'].apply(Third)\n",
        "\n",
        "def Fourth(value):\n",
        "    try:\n",
        "        return value.split('>>')[3][1:len(value.split('>>')[3])-1]\n",
        "    except IndexError:\n",
        "        return 'None'\n",
        "data['Fourth']=data['product_category_tree'].apply(Fourth)\n",
        "\n",
        "def Fifth(value):\n",
        "    try:\n",
        "        return value.split('>>')[4][1:len(value.split('>>')[4])-1]\n",
        "    except IndexError:\n",
        "        return 'None'\n",
        "data['Fifth']=data['product_category_tree'].apply(Fifth)\n",
        "\n",
        "def Six(value):\n",
        "    try:\n",
        "        return value.split('>>')[5][1:len(value.split('>>')[5])-1]\n",
        "    except IndexError:\n",
        "        return 'None'\n",
        "data['Six']=data['product_category_tree'].apply(Six)"
      ],
      "execution_count": null,
      "outputs": []
    },
    {
      "cell_type": "markdown",
      "metadata": {
        "id": "sYHxQIFZatCb"
      },
      "source": [
        "## Data after cleaning"
      ]
    },
    {
      "cell_type": "code",
      "metadata": {
        "colab": {
          "base_uri": "https://localhost:8080/",
          "height": 551
        },
        "id": "8lDz9VN1aoKS",
        "outputId": "671d2b9a-3047-4acc-8426-373252854fdc"
      },
      "source": [
        "data.head(n=5)"
      ],
      "execution_count": null,
      "outputs": [
        {
          "output_type": "execute_result",
          "data": {
            "text/html": [
              "<div>\n",
              "<style scoped>\n",
              "    .dataframe tbody tr th:only-of-type {\n",
              "        vertical-align: middle;\n",
              "    }\n",
              "\n",
              "    .dataframe tbody tr th {\n",
              "        vertical-align: top;\n",
              "    }\n",
              "\n",
              "    .dataframe thead th {\n",
              "        text-align: right;\n",
              "    }\n",
              "</style>\n",
              "<table border=\"1\" class=\"dataframe\">\n",
              "  <thead>\n",
              "    <tr style=\"text-align: right;\">\n",
              "      <th></th>\n",
              "      <th>uniq_id</th>\n",
              "      <th>crawl_timestamp</th>\n",
              "      <th>product_url</th>\n",
              "      <th>product_name</th>\n",
              "      <th>product_category_tree</th>\n",
              "      <th>pid</th>\n",
              "      <th>retail_price</th>\n",
              "      <th>discounted_price</th>\n",
              "      <th>image</th>\n",
              "      <th>is_FK_Advantage_product</th>\n",
              "      <th>description</th>\n",
              "      <th>product_rating</th>\n",
              "      <th>overall_rating</th>\n",
              "      <th>brand</th>\n",
              "      <th>product_specifications</th>\n",
              "      <th>crawl_year</th>\n",
              "      <th>Month</th>\n",
              "      <th>first</th>\n",
              "      <th>second</th>\n",
              "      <th>Third</th>\n",
              "      <th>Fourth</th>\n",
              "      <th>Fifth</th>\n",
              "      <th>Six</th>\n",
              "    </tr>\n",
              "  </thead>\n",
              "  <tbody>\n",
              "    <tr>\n",
              "      <th>0</th>\n",
              "      <td>c2d766ca982eca8304150849735ffef9</td>\n",
              "      <td>2016-03-25 22:59:23+00:00</td>\n",
              "      <td>http://www.flipkart.com/alisha-solid-women-s-c...</td>\n",
              "      <td>Alisha Solid Women's Cycling Shorts</td>\n",
              "      <td>[\"Clothing &gt;&gt; Women's Clothing &gt;&gt; Lingerie, Sl...</td>\n",
              "      <td>SRTEH2FF9KEDEFGF</td>\n",
              "      <td>999.0</td>\n",
              "      <td>379.0</td>\n",
              "      <td>[\"http://img5a.flixcart.com/image/short/u/4/a/...</td>\n",
              "      <td>False</td>\n",
              "      <td>Key Features of Alisha Solid Women's Cycling S...</td>\n",
              "      <td>No rating available</td>\n",
              "      <td>No rating available</td>\n",
              "      <td>Alisha</td>\n",
              "      <td>{\"product_specification\"=&gt;[{\"key\"=&gt;\"Number of ...</td>\n",
              "      <td>2016</td>\n",
              "      <td>3</td>\n",
              "      <td>Clothing</td>\n",
              "      <td>Women's Clothing</td>\n",
              "      <td>Lingerie, Sleep &amp; Swimwear</td>\n",
              "      <td>Shorts</td>\n",
              "      <td>Alisha Shorts</td>\n",
              "      <td>Alisha Solid Women's Cycling Shorts\"</td>\n",
              "    </tr>\n",
              "    <tr>\n",
              "      <th>1</th>\n",
              "      <td>7f7036a6d550aaa89d34c77bd39a5e48</td>\n",
              "      <td>2016-03-25 22:59:23+00:00</td>\n",
              "      <td>http://www.flipkart.com/fabhomedecor-fabric-do...</td>\n",
              "      <td>FabHomeDecor Fabric Double Sofa Bed</td>\n",
              "      <td>[\"Furniture &gt;&gt; Living Room Furniture &gt;&gt; Sofa B...</td>\n",
              "      <td>SBEEH3QGU7MFYJFY</td>\n",
              "      <td>32157.0</td>\n",
              "      <td>22646.0</td>\n",
              "      <td>[\"http://img6a.flixcart.com/image/sofa-bed/j/f...</td>\n",
              "      <td>False</td>\n",
              "      <td>FabHomeDecor Fabric Double Sofa Bed (Finish Co...</td>\n",
              "      <td>No rating available</td>\n",
              "      <td>No rating available</td>\n",
              "      <td>FabHomeDecor</td>\n",
              "      <td>{\"product_specification\"=&gt;[{\"key\"=&gt;\"Installati...</td>\n",
              "      <td>2016</td>\n",
              "      <td>3</td>\n",
              "      <td>Furniture</td>\n",
              "      <td>Living Room Furniture</td>\n",
              "      <td>Sofa Beds &amp; Futons</td>\n",
              "      <td>FabHomeDecor Fabric Double Sofa Bed (Finish Co...</td>\n",
              "      <td>None</td>\n",
              "      <td>None</td>\n",
              "    </tr>\n",
              "    <tr>\n",
              "      <th>2</th>\n",
              "      <td>f449ec65dcbc041b6ae5e6a32717d01b</td>\n",
              "      <td>2016-03-25 22:59:23+00:00</td>\n",
              "      <td>http://www.flipkart.com/aw-bellies/p/itmeh4grg...</td>\n",
              "      <td>AW Bellies</td>\n",
              "      <td>[\"Footwear &gt;&gt; Women's Footwear &gt;&gt; Ballerinas &gt;...</td>\n",
              "      <td>SHOEH4GRSUBJGZXE</td>\n",
              "      <td>999.0</td>\n",
              "      <td>499.0</td>\n",
              "      <td>[\"http://img5a.flixcart.com/image/shoe/7/z/z/r...</td>\n",
              "      <td>False</td>\n",
              "      <td>Key Features of AW Bellies Sandals Wedges Heel...</td>\n",
              "      <td>No rating available</td>\n",
              "      <td>No rating available</td>\n",
              "      <td>AW</td>\n",
              "      <td>{\"product_specification\"=&gt;[{\"key\"=&gt;\"Ideal For\"...</td>\n",
              "      <td>2016</td>\n",
              "      <td>3</td>\n",
              "      <td>Footwear</td>\n",
              "      <td>Women's Footwear</td>\n",
              "      <td>Ballerinas</td>\n",
              "      <td>AW Bellies\"</td>\n",
              "      <td>None</td>\n",
              "      <td>None</td>\n",
              "    </tr>\n",
              "    <tr>\n",
              "      <th>3</th>\n",
              "      <td>0973b37acd0c664e3de26e97e5571454</td>\n",
              "      <td>2016-03-25 22:59:23+00:00</td>\n",
              "      <td>http://www.flipkart.com/alisha-solid-women-s-c...</td>\n",
              "      <td>Alisha Solid Women's Cycling Shorts</td>\n",
              "      <td>[\"Clothing &gt;&gt; Women's Clothing &gt;&gt; Lingerie, Sl...</td>\n",
              "      <td>SRTEH2F6HUZMQ6SJ</td>\n",
              "      <td>699.0</td>\n",
              "      <td>267.0</td>\n",
              "      <td>[\"http://img5a.flixcart.com/image/short/6/2/h/...</td>\n",
              "      <td>False</td>\n",
              "      <td>Key Features of Alisha Solid Women's Cycling S...</td>\n",
              "      <td>No rating available</td>\n",
              "      <td>No rating available</td>\n",
              "      <td>Alisha</td>\n",
              "      <td>{\"product_specification\"=&gt;[{\"key\"=&gt;\"Number of ...</td>\n",
              "      <td>2016</td>\n",
              "      <td>3</td>\n",
              "      <td>Clothing</td>\n",
              "      <td>Women's Clothing</td>\n",
              "      <td>Lingerie, Sleep &amp; Swimwear</td>\n",
              "      <td>Shorts</td>\n",
              "      <td>Alisha Shorts</td>\n",
              "      <td>Alisha Solid Women's Cycling Shorts\"</td>\n",
              "    </tr>\n",
              "    <tr>\n",
              "      <th>4</th>\n",
              "      <td>bc940ea42ee6bef5ac7cea3fb5cfbee7</td>\n",
              "      <td>2016-03-25 22:59:23+00:00</td>\n",
              "      <td>http://www.flipkart.com/sicons-all-purpose-arn...</td>\n",
              "      <td>Sicons All Purpose Arnica Dog Shampoo</td>\n",
              "      <td>[\"Pet Supplies &gt;&gt; Grooming &gt;&gt; Skin &amp; Coat Care...</td>\n",
              "      <td>PSOEH3ZYDMSYARJ5</td>\n",
              "      <td>220.0</td>\n",
              "      <td>210.0</td>\n",
              "      <td>[\"http://img5a.flixcart.com/image/pet-shampoo/...</td>\n",
              "      <td>False</td>\n",
              "      <td>Specifications of Sicons All Purpose Arnica Do...</td>\n",
              "      <td>No rating available</td>\n",
              "      <td>No rating available</td>\n",
              "      <td>Sicons</td>\n",
              "      <td>{\"product_specification\"=&gt;[{\"key\"=&gt;\"Pet Type\",...</td>\n",
              "      <td>2016</td>\n",
              "      <td>3</td>\n",
              "      <td>Pet Supplies</td>\n",
              "      <td>Grooming</td>\n",
              "      <td>Skin &amp; Coat Care</td>\n",
              "      <td>Shampoo</td>\n",
              "      <td>Sicons All Purpose Arnica Dog Shampoo (500 ml)\"</td>\n",
              "      <td>None</td>\n",
              "    </tr>\n",
              "  </tbody>\n",
              "</table>\n",
              "</div>"
            ],
            "text/plain": [
              "                            uniq_id  ...                                   Six\n",
              "0  c2d766ca982eca8304150849735ffef9  ...  Alisha Solid Women's Cycling Shorts\"\n",
              "1  7f7036a6d550aaa89d34c77bd39a5e48  ...                                  None\n",
              "2  f449ec65dcbc041b6ae5e6a32717d01b  ...                                  None\n",
              "3  0973b37acd0c664e3de26e97e5571454  ...  Alisha Solid Women's Cycling Shorts\"\n",
              "4  bc940ea42ee6bef5ac7cea3fb5cfbee7  ...                                  None\n",
              "\n",
              "[5 rows x 23 columns]"
            ]
          },
          "metadata": {
            "tags": []
          },
          "execution_count": 33
        }
      ]
    },
    {
      "cell_type": "markdown",
      "metadata": {
        "id": "Py5YOu7ZofI8"
      },
      "source": [
        "## Dataset Analysis"
      ]
    },
    {
      "cell_type": "code",
      "metadata": {
        "colab": {
          "base_uri": "https://localhost:8080/",
          "height": 320
        },
        "id": "n394wE4wb5e9",
        "outputId": "ec19dc96-e0ce-4007-9a03-d49bcc73f1ff"
      },
      "source": [
        "plt.figure(figsize=(150,10))\n",
        "temp=data.groupby(by='Month',axis=0).count().plot(kind='bar',legend=False)\n",
        "plt.title('Sales based on Month',fontsize=15)\n",
        "plt.xlabel('Month',fontsize=12)\n",
        "plt.ylabel('Sales Count',fontsize=12)\n",
        "plt.show()"
      ],
      "execution_count": null,
      "outputs": [
        {
          "output_type": "display_data",
          "data": {
            "text/plain": [
              "<Figure size 10800x720 with 0 Axes>"
            ]
          },
          "metadata": {
            "tags": []
          }
        },
        {
          "output_type": "display_data",
          "data": {
            "image/png": "[encoded data removed]",
            "text/plain": [
              "<Figure size 432x288 with 1 Axes>"
            ]
          },
          "metadata": {
            "tags": [],
            "needs_background": "light"
          }
        }
      ]
    },
    {
      "cell_type": "markdown",
      "metadata": {
        "id": "em-fYf4I1HWN"
      },
      "source": [
        "Most number of sales are in December month"
      ]
    },
    {
      "cell_type": "code",
      "metadata": {
        "colab": {
          "base_uri": "https://localhost:8080/",
          "height": 650
        },
        "id": "5gschgdIcQL-",
        "outputId": "c5d80263-4344-4cc4-8163-d6d53bd7ce24"
      },
      "source": [
        "plt.figure(figsize=(10,10))\n",
        "data['first'].value_counts()[:20].sort_values(ascending=False).plot(kind='barh')\n",
        "plt.title('first_category',fontsize=20)\n",
        "plt.yticks(fontsize=12)\n",
        "plt.xticks(fontsize=12)\n"
      ],
      "execution_count": null,
      "outputs": [
        {
          "output_type": "execute_result",
          "data": {
            "text/plain": [
              "(array([   0., 1000., 2000., 3000., 4000., 5000., 6000., 7000.]),\n",
              " <a list of 8 Text major ticklabel objects>)"
            ]
          },
          "metadata": {
            "tags": []
          },
          "execution_count": 44
        },
        {
          "output_type": "display_data",
          "data": {
            "image/png": "[encoded data removed]",
            "text/plain": [
              "<Figure size 720x720 with 1 Axes>"
            ]
          },
          "metadata": {
            "tags": [],
            "needs_background": "light"
          }
        }
      ]
    },
    {
      "cell_type": "code",
      "metadata": {
        "colab": {
          "base_uri": "https://localhost:8080/",
          "height": 650
        },
        "id": "DvRRzAk0c0kp",
        "outputId": "101e097d-741b-4b90-d79a-8c86fd91aff1"
      },
      "source": [
        "plt.figure(figsize=(10,10))\n",
        "data['second'].value_counts()[:20].sort_values(ascending=False).plot(kind='barh')\n",
        "plt.title('second_category',fontsize=20)\n",
        "plt.yticks(fontsize=12)\n",
        "plt.xticks(fontsize=12)"
      ],
      "execution_count": null,
      "outputs": [
        {
          "output_type": "execute_result",
          "data": {
            "text/plain": [
              "(array([   0.,  500., 1000., 1500., 2000., 2500., 3000., 3500., 4000.,\n",
              "        4500.]), <a list of 10 Text major ticklabel objects>)"
            ]
          },
          "metadata": {
            "tags": []
          },
          "execution_count": 46
        },
        {
          "output_type": "display_data",
          "data": {
            "image/png": "[encoded data removed]",
            "text/plain": [
              "<Figure size 720x720 with 1 Axes>"
            ]
          },
          "metadata": {
            "tags": [],
            "needs_background": "light"
          }
        }
      ]
    },
    {
      "cell_type": "code",
      "metadata": {
        "colab": {
          "base_uri": "https://localhost:8080/",
          "height": 650
        },
        "id": "2thgpVi8dNLq",
        "outputId": "7bf171ea-6c8a-48fd-8651-f69c97be9463"
      },
      "source": [
        "plt.figure(figsize=(10,10))\n",
        "data['Third'].value_counts()[:20].plot(kind='barh')\n",
        "plt.title('third_category',fontsize=20)\n",
        "plt.yticks(fontsize=12)\n",
        "plt.xticks(fontsize=12)"
      ],
      "execution_count": null,
      "outputs": [
        {
          "output_type": "execute_result",
          "data": {
            "text/plain": [
              "(array([   0.,  250.,  500.,  750., 1000., 1250., 1500., 1750., 2000.,\n",
              "        2250.]), <a list of 10 Text major ticklabel objects>)"
            ]
          },
          "metadata": {
            "tags": []
          },
          "execution_count": 48
        },
        {
          "output_type": "display_data",
          "data": {
            "image/png": "[encoded data removed]",
            "text/plain": [
              "<Figure size 720x720 with 1 Axes>"
            ]
          },
          "metadata": {
            "tags": [],
            "needs_background": "light"
          }
        }
      ]
    },
    {
      "cell_type": "code",
      "metadata": {
        "colab": {
          "base_uri": "https://localhost:8080/",
          "height": 650
        },
        "id": "3bjG-UzrdQ8X",
        "outputId": "e0c725ad-4a98-402a-d88b-22e75e4af436"
      },
      "source": [
        "plt.figure(figsize=(10,10))\n",
        "data['Fourth'].value_counts()[:20].plot(kind='barh')\n",
        "plt.title('fourth_category',fontsize=20)\n",
        "plt.yticks(fontsize=12)\n",
        "plt.xticks(fontsize=12)"
      ],
      "execution_count": null,
      "outputs": [
        {
          "output_type": "execute_result",
          "data": {
            "text/plain": [
              "(array([   0., 1000., 2000., 3000., 4000., 5000., 6000., 7000.]),\n",
              " <a list of 8 Text major ticklabel objects>)"
            ]
          },
          "metadata": {
            "tags": []
          },
          "execution_count": 49
        },
        {
          "output_type": "display_data",
          "data": {
            "image/png": "[encoded data removed]",
            "text/plain": [
              "<Figure size 720x720 with 1 Axes>"
            ]
          },
          "metadata": {
            "tags": [],
            "needs_background": "light"
          }
        }
      ]
    },
    {
      "cell_type": "markdown",
      "metadata": {
        "id": "Vq5r2tjhuXXD"
      },
      "source": [
        "### With these plots we can analyse that\n",
        "\n",
        "1.   The 12th month has most number of sale.\n",
        "2.   Most of the sale took place in the clothing section, and secondary category is Women's clothing looks like Western wear\n",
        "\n",
        "\n"
      ]
    },
    {
      "cell_type": "markdown",
      "metadata": {
        "id": "t92-599mbyQX"
      },
      "source": [
        "## Figuring out the primary category"
      ]
    },
    {
      "cell_type": "code",
      "metadata": {
        "id": "__BwxtdXvnXx"
      },
      "source": [
        "firstcat = len(data[data['first']=='None'])\n",
        "secondcat = len(data[data['second']=='None'])\n",
        "Thirdcat = len(data[data['Third']=='None'])\n",
        "Fourthcat = len(data[data['Fourth']=='None'])\n",
        "Fifthcat = len(data[data['Fifth']=='None'])\n",
        "Sixcat = len(data[data['Six']=='None'])"
      ],
      "execution_count": null,
      "outputs": []
    },
    {
      "cell_type": "code",
      "metadata": {
        "colab": {
          "base_uri": "https://localhost:8080/",
          "height": 251
        },
        "id": "W8PMGG5rxKnl",
        "outputId": "1f92bd4b-f94a-49cc-a514-b9167c2b3416"
      },
      "source": [
        "labels = '1', '2', '3', '4','5','6'\n",
        "sizes = [firstcat,secondcat ,Thirdcat,Fourthcat,Fifthcat, Sixcat]\n",
        "colors = ['pink', 'green', 'blue', 'violet','red','yellow']\n",
        "explode = (0.01, 0.01, 0.01, 0.01,0.0,0.01)\n",
        "plt.pie(sizes, labels = labels, colors = colors, explode = explode,\n",
        "       shadow = True, autopct = '%.4f%%', startangle = 140)\n",
        "plt.axis('equal')\n",
        "plt.show()"
      ],
      "execution_count": null,
      "outputs": [
        {
          "output_type": "display_data",
          "data": {
            "image/png": "[encoded data removed]",
            "text/plain": [
              "<Figure size 432x288 with 1 Axes>"
            ]
          },
          "metadata": {
            "tags": []
          }
        }
      ]
    },
    {
      "cell_type": "markdown",
      "metadata": {
        "id": "z83QS80WhM0r"
      },
      "source": [
        "We can see that 4,5,6 has more null values so taking any 4,5,6 as primary will result into data loss and 1 has the least number of null values so i am takng that as the primary category"
      ]
    },
    {
      "cell_type": "markdown",
      "metadata": {
        "id": "YozXBUxb3ogN"
      },
      "source": [
        "## Data Preprocessing"
      ]
    },
    {
      "cell_type": "code",
      "metadata": {
        "colab": {
          "base_uri": "https://localhost:8080/"
        },
        "id": "Y63S-m0U3tYe",
        "outputId": "d1e2be46-2332-49b7-a347-b5323ebaf58f"
      },
      "source": [
        "import re \n",
        "import nltk \n",
        "from sklearn import preprocessing\n",
        "\n",
        "\n",
        "from gensim.models.fasttext import FastText\n",
        "from string import punctuation\n",
        "from nltk.tokenize import word_tokenize\n",
        "from nltk.stem import WordNetLemmatizer\n",
        "from nltk.tokenize import sent_tokenize\n",
        "from nltk import WordPunctTokenizer\n",
        "\n",
        "nltk.download('punkt')\n",
        "nltk.download('wordnet')\n",
        "nltk.download('stopwords')\n",
        "en_stop = set(nltk.corpus.stopwords.words('english'))"
      ],
      "execution_count": null,
      "outputs": [
        {
          "output_type": "stream",
          "text": [
            "[nltk_data] Downloading package punkt to /root/nltk_data...\n",
            "[nltk_data]   Unzipping tokenizers/punkt.zip.\n",
            "[nltk_data] Downloading package wordnet to /root/nltk_data...\n",
            "[nltk_data]   Unzipping corpora/wordnet.zip.\n",
            "[nltk_data] Downloading package stopwords to /root/nltk_data...\n",
            "[nltk_data]   Unzipping corpora/stopwords.zip.\n"
          ],
          "name": "stdout"
        }
      ]
    },
    {
      "cell_type": "code",
      "metadata": {
        "id": "bg8fYzeq3-3z"
      },
      "source": [
        "stemmer = WordNetLemmatizer()\n",
        "def preprocess(text):\n",
        "    text = re.sub(r'\\W', ' ', str(text)) \n",
        "    text=re.sub('[^a-z\\s]+',' ',text,flags=re.IGNORECASE) \n",
        "    text=re.sub('(\\s+)',' ',text) \n",
        "    text=text.lower()\n",
        "    tokens = text.split()\n",
        "    tokens = [stemmer.lemmatize(word) for word in tokens]\n",
        "    tokens = [word for word in tokens if word not in en_stop] \n",
        "    tokens = [word for word in tokens if len(word) > 2] \n",
        "    preprocessed = ' '.join(tokens)  \n",
        "    return preprocessed "
      ],
      "execution_count": null,
      "outputs": []
    },
    {
      "cell_type": "markdown",
      "metadata": {
        "id": "_d16kkIGiUSS"
      },
      "source": [
        "## Model\n",
        "As the task is to predict the category using description , I am avoiding other columns and using only the description and maincategory column(primary category)"
      ]
    },
    {
      "cell_type": "code",
      "metadata": {
        "id": "NISafOFUigeR"
      },
      "source": [
        "fdf = data[['description', 'first']]"
      ],
      "execution_count": null,
      "outputs": []
    },
    {
      "cell_type": "code",
      "metadata": {
        "colab": {
          "base_uri": "https://localhost:8080/"
        },
        "id": "ne3bsa0Q4o7b",
        "outputId": "c3d75136-6770-44cd-9273-56eece749ca1"
      },
      "source": [
        "fdf['description'] = fdf['description'].astype('str').apply(preprocess)"
      ],
      "execution_count": null,
      "outputs": [
        {
          "output_type": "stream",
          "text": [
            "/usr/local/lib/python3.7/dist-packages/ipykernel_launcher.py:1: SettingWithCopyWarning: \n",
            "A value is trying to be set on a copy of a slice from a DataFrame.\n",
            "Try using .loc[row_indexer,col_indexer] = value instead\n",
            "\n",
            "See the caveats in the documentation: https://pandas.pydata.org/pandas-docs/stable/user_guide/indexing.html#returning-a-view-versus-a-copy\n",
            "  \"\"\"Entry point for launching an IPython kernel.\n"
          ],
          "name": "stderr"
        }
      ]
    },
    {
      "cell_type": "code",
      "metadata": {
        "colab": {
          "base_uri": "https://localhost:8080/",
          "height": 402
        },
        "id": "xAN1XkkCjdlY",
        "outputId": "6d4f4973-ee5b-434c-96f0-531b12c8179b"
      },
      "source": [
        "fdf"
      ],
      "execution_count": null,
      "outputs": [
        {
          "output_type": "execute_result",
          "data": {
            "text/html": [
              "<div>\n",
              "<style scoped>\n",
              "    .dataframe tbody tr th:only-of-type {\n",
              "        vertical-align: middle;\n",
              "    }\n",
              "\n",
              "    .dataframe tbody tr th {\n",
              "        vertical-align: top;\n",
              "    }\n",
              "\n",
              "    .dataframe thead th {\n",
              "        text-align: right;\n",
              "    }\n",
              "</style>\n",
              "<table border=\"1\" class=\"dataframe\">\n",
              "  <thead>\n",
              "    <tr style=\"text-align: right;\">\n",
              "      <th></th>\n",
              "      <th>description</th>\n",
              "      <th>first</th>\n",
              "    </tr>\n",
              "  </thead>\n",
              "  <tbody>\n",
              "    <tr>\n",
              "      <th>0</th>\n",
              "      <td>key feature alisha solid woman cycling short c...</td>\n",
              "      <td>Clothing</td>\n",
              "    </tr>\n",
              "    <tr>\n",
              "      <th>1</th>\n",
              "      <td>fabhomedecor fabric double sofa bed finish col...</td>\n",
              "      <td>Furniture</td>\n",
              "    </tr>\n",
              "    <tr>\n",
              "      <th>2</th>\n",
              "      <td>key feature belly sandal wedge heel casuals be...</td>\n",
              "      <td>Footwear</td>\n",
              "    </tr>\n",
              "    <tr>\n",
              "      <th>3</th>\n",
              "      <td>key feature alisha solid woman cycling short c...</td>\n",
              "      <td>Clothing</td>\n",
              "    </tr>\n",
              "    <tr>\n",
              "      <th>4</th>\n",
              "      <td>specification sicons purpose arnica dog shampo...</td>\n",
              "      <td>Pet Supplies</td>\n",
              "    </tr>\n",
              "    <tr>\n",
              "      <th>...</th>\n",
              "      <td>...</td>\n",
              "      <td>...</td>\n",
              "    </tr>\n",
              "    <tr>\n",
              "      <th>19995</th>\n",
              "      <td>buy walldesign small vinyl sticker online wall...</td>\n",
              "      <td>Baby Care</td>\n",
              "    </tr>\n",
              "    <tr>\n",
              "      <th>19996</th>\n",
              "      <td>buy wallmantra large vinyl sticker sticker onl...</td>\n",
              "      <td>Baby Care</td>\n",
              "    </tr>\n",
              "    <tr>\n",
              "      <th>19997</th>\n",
              "      <td>buy elite collection medium acrylic sticker on...</td>\n",
              "      <td>Baby Care</td>\n",
              "    </tr>\n",
              "    <tr>\n",
              "      <th>19998</th>\n",
              "      <td>buy elite collection medium acrylic sticker on...</td>\n",
              "      <td>Baby Care</td>\n",
              "    </tr>\n",
              "    <tr>\n",
              "      <th>19999</th>\n",
              "      <td>buy elite collection medium acrylic sticker on...</td>\n",
              "      <td>Baby Care</td>\n",
              "    </tr>\n",
              "  </tbody>\n",
              "</table>\n",
              "<p>20000 rows × 2 columns</p>\n",
              "</div>"
            ],
            "text/plain": [
              "                                             description         first\n",
              "0      key feature alisha solid woman cycling short c...      Clothing\n",
              "1      fabhomedecor fabric double sofa bed finish col...     Furniture\n",
              "2      key feature belly sandal wedge heel casuals be...      Footwear\n",
              "3      key feature alisha solid woman cycling short c...      Clothing\n",
              "4      specification sicons purpose arnica dog shampo...  Pet Supplies\n",
              "...                                                  ...           ...\n",
              "19995  buy walldesign small vinyl sticker online wall...     Baby Care\n",
              "19996  buy wallmantra large vinyl sticker sticker onl...     Baby Care\n",
              "19997  buy elite collection medium acrylic sticker on...     Baby Care\n",
              "19998  buy elite collection medium acrylic sticker on...     Baby Care\n",
              "19999  buy elite collection medium acrylic sticker on...     Baby Care\n",
              "\n",
              "[20000 rows x 2 columns]"
            ]
          },
          "metadata": {
            "tags": []
          },
          "execution_count": 63
        }
      ]
    },
    {
      "cell_type": "code",
      "metadata": {
        "id": "Yonl0GFFiV9Q"
      },
      "source": [
        "from sklearn.feature_extraction.text import CountVectorizer, TfidfTransformer\n",
        "cv = CountVectorizer(stop_words='english')\n",
        "tf = TfidfTransformer()"
      ],
      "execution_count": null,
      "outputs": []
    },
    {
      "cell_type": "code",
      "metadata": {
        "id": "otboDrJ660_m"
      },
      "source": [
        "X = cv.fit_transform(fdf.description.values)"
      ],
      "execution_count": null,
      "outputs": []
    },
    {
      "cell_type": "code",
      "metadata": {
        "id": "ExAgiJUO64Fs"
      },
      "source": [
        "X = tf.fit_transform(X)\n",
        "y = fdf['first'].values"
      ],
      "execution_count": null,
      "outputs": []
    },
    {
      "cell_type": "markdown",
      "metadata": {
        "id": "UoXFT8vklkk2"
      },
      "source": [
        "### Splitting the dataset"
      ]
    },
    {
      "cell_type": "code",
      "metadata": {
        "id": "E7f9dPMYk9Aw"
      },
      "source": [
        "from sklearn.model_selection import train_test_split\n",
        "X_train, X_test, y_train, y_test = train_test_split(X, y)"
      ],
      "execution_count": null,
      "outputs": []
    },
    {
      "cell_type": "markdown",
      "metadata": {
        "id": "_f9NtoirnKnc"
      },
      "source": [
        "## Classifiers"
      ]
    },
    {
      "cell_type": "code",
      "metadata": {
        "id": "vAf4B_fZojq4"
      },
      "source": [
        "from sklearn.linear_model import LogisticRegression \n",
        "from sklearn.model_selection import train_test_split  \n",
        "from sklearn.neighbors import KNeighborsClassifier \n",
        "from sklearn import svm \n",
        "from sklearn.tree import DecisionTreeClassifier\n",
        "from sklearn.naive_bayes import MultinomialNB\n",
        "from sklearn.model_selection import GridSearchCV\n",
        "from sklearn import metrics"
      ],
      "execution_count": null,
      "outputs": []
    },
    {
      "cell_type": "markdown",
      "metadata": {
        "id": "LxrAUrz5nNjR"
      },
      "source": [
        "### 1. Navies Bayes"
      ]
    },
    {
      "cell_type": "code",
      "metadata": {
        "colab": {
          "base_uri": "https://localhost:8080/"
        },
        "id": "u8mboIbRlnD_",
        "outputId": "0b336e6b-7241-451a-8a3d-c9917351a6aa"
      },
      "source": [
        "classifier = MultinomialNB()\n",
        "classifier.fit(X_train, y_train)\n",
        "classifier.score(X_train, y_train)"
      ],
      "execution_count": null,
      "outputs": [
        {
          "output_type": "execute_result",
          "data": {
            "text/plain": [
              "0.8833333333333333"
            ]
          },
          "metadata": {
            "tags": []
          },
          "execution_count": 83
        }
      ]
    },
    {
      "cell_type": "code",
      "metadata": {
        "colab": {
          "base_uri": "https://localhost:8080/"
        },
        "id": "SxUDRmTK7uCr",
        "outputId": "e7f7adbd-6342-46ae-e9f8-90088b7ef543"
      },
      "source": [
        "classifier.score(X_test, y_test)"
      ],
      "execution_count": null,
      "outputs": [
        {
          "output_type": "execute_result",
          "data": {
            "text/plain": [
              "0.8548"
            ]
          },
          "metadata": {
            "tags": []
          },
          "execution_count": 84
        }
      ]
    },
    {
      "cell_type": "markdown",
      "metadata": {
        "id": "TL757b2woNte"
      },
      "source": [
        "### 2. GridSearchCV"
      ]
    },
    {
      "cell_type": "code",
      "metadata": {
        "id": "yJLWZo6ZoK1X"
      },
      "source": [
        "param_grid = {'alpha':np.linspace(0, 1, 10), 'fit_prior':[True, False]}\n",
        "grid = GridSearchCV(MultinomialNB(), param_grid=param_grid, cv=4)"
      ],
      "execution_count": null,
      "outputs": []
    },
    {
      "cell_type": "code",
      "metadata": {
        "colab": {
          "base_uri": "https://localhost:8080/"
        },
        "id": "Y3yzGPjnoRgG",
        "outputId": "e841b751-9445-4a0e-d048-454fb64297aa"
      },
      "source": [
        "grid.fit(X_train, y_train)"
      ],
      "execution_count": null,
      "outputs": [
        {
          "output_type": "stream",
          "text": [
            "/usr/local/lib/python3.7/dist-packages/sklearn/model_selection/_split.py:667: UserWarning: The least populated class in y has only 1 members, which is less than n_splits=4.\n",
            "  % (min_groups, self.n_splits)), UserWarning)\n",
            "/usr/local/lib/python3.7/dist-packages/sklearn/naive_bayes.py:507: UserWarning: alpha too small will result in numeric errors, setting alpha = 1.0e-10\n",
            "  'setting alpha = %.1e' % _ALPHA_MIN)\n",
            "/usr/local/lib/python3.7/dist-packages/sklearn/naive_bayes.py:507: UserWarning: alpha too small will result in numeric errors, setting alpha = 1.0e-10\n",
            "  'setting alpha = %.1e' % _ALPHA_MIN)\n",
            "/usr/local/lib/python3.7/dist-packages/sklearn/naive_bayes.py:507: UserWarning: alpha too small will result in numeric errors, setting alpha = 1.0e-10\n",
            "  'setting alpha = %.1e' % _ALPHA_MIN)\n",
            "/usr/local/lib/python3.7/dist-packages/sklearn/naive_bayes.py:507: UserWarning: alpha too small will result in numeric errors, setting alpha = 1.0e-10\n",
            "  'setting alpha = %.1e' % _ALPHA_MIN)\n",
            "/usr/local/lib/python3.7/dist-packages/sklearn/naive_bayes.py:507: UserWarning: alpha too small will result in numeric errors, setting alpha = 1.0e-10\n",
            "  'setting alpha = %.1e' % _ALPHA_MIN)\n",
            "/usr/local/lib/python3.7/dist-packages/sklearn/naive_bayes.py:507: UserWarning: alpha too small will result in numeric errors, setting alpha = 1.0e-10\n",
            "  'setting alpha = %.1e' % _ALPHA_MIN)\n",
            "/usr/local/lib/python3.7/dist-packages/sklearn/naive_bayes.py:507: UserWarning: alpha too small will result in numeric errors, setting alpha = 1.0e-10\n",
            "  'setting alpha = %.1e' % _ALPHA_MIN)\n",
            "/usr/local/lib/python3.7/dist-packages/sklearn/naive_bayes.py:507: UserWarning: alpha too small will result in numeric errors, setting alpha = 1.0e-10\n",
            "  'setting alpha = %.1e' % _ALPHA_MIN)\n"
          ],
          "name": "stderr"
        },
        {
          "output_type": "execute_result",
          "data": {
            "text/plain": [
              "GridSearchCV(cv=4, error_score=nan,\n",
              "             estimator=MultinomialNB(alpha=1.0, class_prior=None,\n",
              "                                     fit_prior=True),\n",
              "             iid='deprecated', n_jobs=None,\n",
              "             param_grid={'alpha': array([0.        , 0.11111111, 0.22222222, 0.33333333, 0.44444444,\n",
              "       0.55555556, 0.66666667, 0.77777778, 0.88888889, 1.        ]),\n",
              "                         'fit_prior': [True, False]},\n",
              "             pre_dispatch='2*n_jobs', refit=True, return_train_score=False,\n",
              "             scoring=None, verbose=0)"
            ]
          },
          "metadata": {
            "tags": []
          },
          "execution_count": 79
        }
      ]
    },
    {
      "cell_type": "code",
      "metadata": {
        "colab": {
          "base_uri": "https://localhost:8080/"
        },
        "id": "AxOMBkCKoV8M",
        "outputId": "5ef6aebb-cc3c-47e6-85b3-99265f47a2ba"
      },
      "source": [
        "model = grid.best_estimator_\n",
        "model.score(X_test, y_test)"
      ],
      "execution_count": null,
      "outputs": [
        {
          "output_type": "execute_result",
          "data": {
            "text/plain": [
              "0.9496"
            ]
          },
          "metadata": {
            "tags": []
          },
          "execution_count": 80
        }
      ]
    },
    {
      "cell_type": "markdown",
      "metadata": {
        "id": "Cggqf9Warkn_"
      },
      "source": [
        "### 3. Decision Tree"
      ]
    },
    {
      "cell_type": "code",
      "metadata": {
        "colab": {
          "base_uri": "https://localhost:8080/"
        },
        "id": "NqhXztKjphdW",
        "outputId": "23fb74f2-04c0-4b3e-b8f3-d1ad52c89568"
      },
      "source": [
        "dclf = DecisionTreeClassifier()\n",
        "dclf.fit(X_train,y_train)\n",
        "dprediction = dclf.predict(X_test)\n",
        "print('The accuracy of Decision Tree is: ', metrics.accuracy_score(dprediction, y_test))"
      ],
      "execution_count": null,
      "outputs": [
        {
          "output_type": "stream",
          "text": [
            "The accuracy of Decision Tree is:  0.9328\n"
          ],
          "name": "stdout"
        }
      ]
    },
    {
      "cell_type": "markdown",
      "metadata": {
        "id": "KAVDUeQar7i9"
      },
      "source": [
        "### 4. Logistic Regression"
      ]
    },
    {
      "cell_type": "code",
      "metadata": {
        "colab": {
          "base_uri": "https://localhost:8080/"
        },
        "id": "LaZC_Xy2poGQ",
        "outputId": "5fbee81a-de1c-4143-9943-d3f72792c7c2"
      },
      "source": [
        "lr = LogisticRegression()\n",
        "lr.fit(X_train,y_train)\n",
        "lrprediction = lr.predict(X_test)\n",
        "print('The accuracy of Logistic Regression is: ', metrics.accuracy_score(lrprediction, y_test))"
      ],
      "execution_count": null,
      "outputs": [
        {
          "output_type": "stream",
          "text": [
            "The accuracy of Logistic Regression is:  0.9408\n"
          ],
          "name": "stdout"
        },
        {
          "output_type": "stream",
          "text": [
            "/usr/local/lib/python3.7/dist-packages/sklearn/linear_model/_logistic.py:940: ConvergenceWarning: lbfgs failed to converge (status=1):\n",
            "STOP: TOTAL NO. of ITERATIONS REACHED LIMIT.\n",
            "\n",
            "Increase the number of iterations (max_iter) or scale the data as shown in:\n",
            "    https://scikit-learn.org/stable/modules/preprocessing.html\n",
            "Please also refer to the documentation for alternative solver options:\n",
            "    https://scikit-learn.org/stable/modules/linear_model.html#logistic-regression\n",
            "  extra_warning_msg=_LOGISTIC_SOLVER_CONVERGENCE_MSG)\n"
          ],
          "name": "stderr"
        }
      ]
    },
    {
      "cell_type": "markdown",
      "metadata": {
        "id": "aKiG5szIsBVP"
      },
      "source": [
        "### 5.KNN"
      ]
    },
    {
      "cell_type": "code",
      "metadata": {
        "colab": {
          "base_uri": "https://localhost:8080/",
          "height": 519
        },
        "id": "T6uqsZEjp8Lb",
        "outputId": "5c0b1e35-a68a-47ac-c810-4606507d61d4"
      },
      "source": [
        "a_index = list(range(1,11))\n",
        "a = pd.Series()\n",
        "for i in list(range(1,11)):\n",
        "    knn = KNeighborsClassifier(n_neighbors=i)\n",
        "    knn.fit(X_train, y_train)\n",
        "    prediction = knn.predict(X_test)\n",
        "    a = a.append(pd.Series(metrics.accuracy_score(prediction, y_test)))\n",
        "plt.plot(a_index, a)\n",
        "x = [1,2,3,4,5,6,7,8,9,10]\n",
        "plt.title(' KNN models using different values of n')\n",
        "plt.xticks(x)"
      ],
      "execution_count": null,
      "outputs": [
        {
          "output_type": "stream",
          "text": [
            "/usr/local/lib/python3.7/dist-packages/ipykernel_launcher.py:2: DeprecationWarning: The default dtype for empty Series will be 'object' instead of 'float64' in a future version. Specify a dtype explicitly to silence this warning.\n",
            "  \n"
          ],
          "name": "stderr"
        },
        {
          "output_type": "execute_result",
          "data": {
            "text/plain": [
              "([<matplotlib.axis.XTick at 0x7f337c9c9790>,\n",
              "  <matplotlib.axis.XTick at 0x7f337c9c9750>,\n",
              "  <matplotlib.axis.XTick at 0x7f337c9c9310>,\n",
              "  <matplotlib.axis.XTick at 0x7f337c993390>,\n",
              "  <matplotlib.axis.XTick at 0x7f337c9938d0>,\n",
              "  <matplotlib.axis.XTick at 0x7f337c993e10>,\n",
              "  <matplotlib.axis.XTick at 0x7f337c9983d0>,\n",
              "  <matplotlib.axis.XTick at 0x7f337c998910>,\n",
              "  <matplotlib.axis.XTick at 0x7f337c998e50>,\n",
              "  <matplotlib.axis.XTick at 0x7f337c9a23d0>],\n",
              " <a list of 10 Text major ticklabel objects>)"
            ]
          },
          "metadata": {
            "tags": []
          },
          "execution_count": 85
        },
        {
          "output_type": "display_data",
          "data": {
            "image/png": "[encoded data removed]",
            "text/plain": [
              "<Figure size 432x288 with 1 Axes>"
            ]
          },
          "metadata": {
            "tags": [],
            "needs_background": "light"
          }
        }
      ]
    },
    {
      "cell_type": "code",
      "metadata": {
        "colab": {
          "base_uri": "https://localhost:8080/"
        },
        "id": "pPy62sGdqi2e",
        "outputId": "1416e942-29bf-44ae-a8a8-8a9249699c27"
      },
      "source": [
        "knn = KNeighborsClassifier(n_neighbors=4)\n",
        "knn.fit(X_train,y_train)\n",
        "kprediction = knn.predict(X_test)\n",
        "print('The accuracy of KNN is: ', metrics.accuracy_score(kprediction, y_test))"
      ],
      "execution_count": null,
      "outputs": [
        {
          "output_type": "stream",
          "text": [
            "The accuracy of KNN is:  0.9426\n"
          ],
          "name": "stdout"
        }
      ]
    },
    {
      "cell_type": "markdown",
      "metadata": {
        "id": "ykQzCaFdsaoH"
      },
      "source": [
        "### 6. Random forest"
      ]
    },
    {
      "cell_type": "code",
      "metadata": {
        "colab": {
          "base_uri": "https://localhost:8080/"
        },
        "id": "yVtTMfBesJ_U",
        "outputId": "1d6cf791-1eaf-4775-eb48-fa9d966f9d9c"
      },
      "source": [
        "from sklearn.ensemble import RandomForestClassifier\n",
        "\n",
        "\n",
        "clf=RandomForestClassifier(n_estimators=100)\n",
        "clf.fit(X_train,y_train)\n",
        "random_pred=clf.predict(X_test)\n",
        "print('The accuracy of Random forest is: ', metrics.accuracy_score(random_pred, y_test))"
      ],
      "execution_count": null,
      "outputs": [
        {
          "output_type": "stream",
          "text": [
            "The accuracy of Random forest is:  0.944\n"
          ],
          "name": "stdout"
        }
      ]
    },
    {
      "cell_type": "markdown",
      "metadata": {
        "id": "hVSAxaXiuIqM"
      },
      "source": [
        "## GridSearchCv gave the best accuracy nearly 95%"
      ]
    },
    {
      "cell_type": "code",
      "metadata": {
        "id": "imyo3xA62rKL"
      },
      "source": [
        ""
      ],
      "execution_count": null,
      "outputs": []
    }
  ]
}